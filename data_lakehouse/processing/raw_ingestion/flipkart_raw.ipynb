{
 "cells": [
  {
   "cell_type": "code",
   "execution_count": 1,
   "id": "48b307da",
   "metadata": {},
   "outputs": [],
   "source": [
    "import sys, os\n",
    "sys.path.append(os.path.abspath(os.path.join(os.getcwd(), \"../..\")))\n",
    "from pandas import read_csv\n",
    "from glob import glob\n",
    "from utils.helpers import save_on_data_lake\n",
    "from config.constants import RAW_ROUTE, CSV_ROUTE, FLIPKART_ECOMMERCE_SAMPLE_CSV, FLIPKART_ECOMMERCE_SAMPLE_RAW"
   ]
  },
  {
   "cell_type": "code",
   "execution_count": 4,
   "id": "bc88dd12",
   "metadata": {},
   "outputs": [],
   "source": [
    "flipkart_csv_route = glob(f\"{CSV_ROUTE}\\\\{FLIPKART_ECOMMERCE_SAMPLE_CSV}\")\n",
    "\n",
    "flipkart_df = read_csv(flipkart_csv_route[0])\n",
    "\n",
    "save_on_data_lake(RAW_ROUTE, flipkart_df, FLIPKART_ECOMMERCE_SAMPLE_RAW)"
   ]
  }
 ],
 "metadata": {
  "kernelspec": {
   "display_name": "venv",
   "language": "python",
   "name": "python3"
  },
  "language_info": {
   "codemirror_mode": {
    "name": "ipython",
    "version": 3
   },
   "file_extension": ".py",
   "mimetype": "text/x-python",
   "name": "python",
   "nbconvert_exporter": "python",
   "pygments_lexer": "ipython3",
   "version": "3.12.3"
  }
 },
 "nbformat": 4,
 "nbformat_minor": 5
}
